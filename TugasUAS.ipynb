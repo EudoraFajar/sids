import matplotlib.pyplot as plt
from numpy import array
from mpl_toolkits.basemap import Basemap
from matplotlib.patches import Polygon
from matplotlib.collections import PatchCollection
from matplotlib.patches import PathPatch
import pandas as pd
import warnings
warnings.filterwarnings("ignore")


fig = plt.figure(1, figsize=(25,35))
#fig = plt.figure()
ax = fig.add_subplot(111)

lon_min, lon_max = 112.51338, 112.872205
lat_min, lat_max = -7.357448, -7.178877

map = Basemap(llcrnrlat=lat_min,
              urcrnrlat=lat_max,
              llcrnrlon=lon_min,
              urcrnrlon=lon_max,
              resolution='h',
              projection='tmerc',
              lat_0 = -7.1,
              lon_0 = 112.6,
              epsg=2389)

map.drawmapboundary(fill_color='blue')
map.fillcontinents(color='#ddaa66',lake_color='blue')
map.drawcoastlines()

map.readshapefile('Garis_Batas_Kecamatan', 'Garis_Batas_Kecamatan')

pg = []
kec = []

#(use "r" before the path string to address special character, such as '\'). Don't forget to put the file name at the end of the path + '.xlsx'
df = pd.read_excel (r'C:\Users\AGP\Tugas\Data_RumahIbadah_Kecamatan.xlsx', usecols=['Wilayah', 'Total'])

for info, shape in zip(map.Garis_Batas_Kecamatan_info, map.Garis_Batas_Kecamatan):
    if (info['name'] == 'Asemrowo'):
        if(df['Total'][0] == 0):
            pg.append(Polygon(array(shape), True))
            ax.add_collection(PatchCollection(pg, facecolor='red', edgecolor='k', linewidths=1, zorder=2))
        elif((df['Total'][0] > 66) and (df['Total'][66] <= 80)):
            pg.append(Polygon(array(shape), True))
            ax.add_collection(PatchCollection(pg, facecolor='Yellow', edgecolor='k', linewidths=1, zorder=2))
        elif((df['Total'][66] > 80) and (df['Total'][66] <= 100)):
            pg.append(Polygon(array(shape), True))
            ax.add_collection(PatchCollection(pg, facecolor='Green', edgecolor='k', linewidths=1, zorder=2))
        else:
            pg.append(Polygon(array(shape), True))
            ax.add_collection(PatchCollection(pg, facecolor='Blue', edgecolor='k', linewidths=1, zorder=2))
    
    
    
#ax.add_collection(PatchCollection(pg, facecolor='green', edgecolor='k', linewidths=1, zorder=2))
plt.show()
